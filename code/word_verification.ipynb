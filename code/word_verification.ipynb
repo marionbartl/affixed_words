{
 "cells": [
  {
   "cell_type": "markdown",
   "metadata": {},
   "source": [
    "## Word Verification with BabelNet"
   ]
  },
  {
   "cell_type": "code",
   "execution_count": 2,
   "metadata": {},
   "outputs": [
    {
     "name": "stderr",
     "output_type": "stream",
     "text": [
      "2023-12-18 15:08:30,143 [babelnet.conf] INFO: Loaded configuration from ['/home/bartlm/tryout/code/babelnet_conf.yml']\n",
      "2023-12-18 15:08:30,147 [babelnet.api] INFO: BabelNet online RESTful API v1.1.0\n"
     ]
    }
   ],
   "source": [
    "import re\n",
    "import pandas as pd\n",
    "import json\n",
    "\n",
    "import babelnet as bn\n",
    "from babelnet.language import Language\n",
    "from babelnet.pos import POS"
   ]
  },
  {
   "cell_type": "code",
   "execution_count": 3,
   "metadata": {},
   "outputs": [],
   "source": [
    "def get_variants(word:str):\n",
    "    new_variants = []\n",
    "    # if word contains a dash or space, create variant without & with the respective other\n",
    "    if '-' in word or ' ' in word:\n",
    "        # remove non-word character from string with regex\n",
    "        new_variants.append(re.sub(r'[^a-zA-Z]', '', word))\n",
    "\n",
    "        # if word contains a space, create variant with dash\n",
    "        if ' ' in word:\n",
    "            new_variants.append(word.replace(' ', '-'))\n",
    "        # if word contains a dash, create variant with space\n",
    "        if '-' in word:\n",
    "            new_variants.append(word.replace('-', ' '))\n",
    "    \n",
    "    return [word] + new_variants"
   ]
  },
  {
   "cell_type": "code",
   "execution_count": 4,
   "metadata": {},
   "outputs": [],
   "source": [
    "def verify_wordlist_bn(wordlist):\n",
    "    processed = dict()\n",
    "    # go through all of the words\n",
    "    for word in wordlist:\n",
    "    # check if word is in already done\n",
    "        if word in processed.keys():\n",
    "            continue\n",
    "        # if not, check if word has synsets\n",
    "        else:\n",
    "            synsets = bn.get_synsets(word, from_langs=[Language.EN])\n",
    "            # if yes, add word to done as (word, word)\n",
    "            if synsets:\n",
    "                processed[word] = word\n",
    "            # if not, check if there are variants\n",
    "            else:\n",
    "                variants = get_variants(word)\n",
    "                # if there are variants, check each variant\n",
    "                if len(variants) > 1:\n",
    "                    for v in variants[1:]:\n",
    "                        synsets = bn.get_synsets(v, from_langs=[Language.EN])\n",
    "                        # if a variant exists, add it to list of done as (word, variant)\n",
    "                        if synsets:\n",
    "                            processed[word] = v\n",
    "                # if there are no variants, continue\n",
    "    return processed\n"
   ]
  },
  {
   "cell_type": "markdown",
   "metadata": {},
   "source": [
    "## Manship"
   ]
  },
  {
   "cell_type": "code",
   "execution_count": 8,
   "metadata": {},
   "outputs": [],
   "source": [
    "manship = ['airmanship',\n",
    " 'batsmanship',\n",
    " 'brinkmanship',\n",
    " 'brinksmanship',\n",
    " 'cellarmanship',\n",
    " 'chairmanship',\n",
    " 'chartsmanship',\n",
    " 'churchmanship',\n",
    " 'craftmanship',\n",
    " 'craftsmanship',\n",
    " 'debtsmanship',\n",
    " 'draftsmanship',\n",
    " 'draughtsmanship',\n",
    " 'foremanship',\n",
    " 'gamesmanship',\n",
    " 'gentlemanship',\n",
    " 'godmanship',\n",
    " 'grantsmanship',\n",
    " 'handcraftsmanship',\n",
    " 'horsemanship',\n",
    " 'journeymanship',\n",
    " 'lifemanship',\n",
    " 'manship',\n",
    " 'marksmanship',\n",
    " 'oarsmanship',\n",
    " 'onedownmanship',\n",
    " 'oneupmanship',\n",
    " 'oneupsmanship',\n",
    " 'outdoorsmanship',\n",
    " 'penmanship',\n",
    " 'pitchmanship',\n",
    " 'policemanship',\n",
    " 'punmanship',\n",
    " 'quizmanship',\n",
    " 'quotemanship',\n",
    " 'salesmanship',\n",
    " 'seamanship',\n",
    " 'showmanship',\n",
    " 'spearmanship',\n",
    " 'specmanship',\n",
    " 'sportsmanship',\n",
    " 'statesmanship',\n",
    " 'stateswomanship',\n",
    " 'stockmanship',\n",
    " 'successmanship',\n",
    " 'swordsmanship',\n",
    " 'teamsmanship',\n",
    " 'turfmanship',\n",
    " 'upmanship',\n",
    " 'upsmanship',\n",
    " 'workitsmanship',\n",
    " 'workmanship',\n",
    " 'workwomanship']"
   ]
  },
  {
   "cell_type": "code",
   "execution_count": 9,
   "metadata": {},
   "outputs": [],
   "source": [
    "manship_verified = verify_wordlist_bn(manship)"
   ]
  },
  {
   "cell_type": "code",
   "execution_count": 10,
   "metadata": {},
   "outputs": [
    {
     "name": "stdout",
     "output_type": "stream",
     "text": [
      "before: 53 after: 32\n"
     ]
    }
   ],
   "source": [
    "print(f'before: {len(manship)} after: {len(manship_verified)}')"
   ]
  },
  {
   "cell_type": "code",
   "execution_count": 12,
   "metadata": {},
   "outputs": [
    {
     "name": "stdout",
     "output_type": "stream",
     "text": [
      "dict_keys(['airmanship', 'batsmanship', 'brinkmanship', 'brinksmanship', 'chairmanship', 'churchmanship', 'craftmanship', 'craftsmanship', 'draftsmanship', 'draughtsmanship', 'foremanship', 'gamesmanship', 'gentlemanship', 'grantsmanship', 'handcraftsmanship', 'horsemanship', 'journeymanship', 'lifemanship', 'manship', 'marksmanship', 'oarsmanship', 'oneupmanship', 'penmanship', 'salesmanship', 'seamanship', 'showmanship', 'sportsmanship', 'statesmanship', 'stockmanship', 'swordsmanship', 'upmanship', 'workmanship'])\n"
     ]
    }
   ],
   "source": [
    "print(manship_verified.keys())"
   ]
  },
  {
   "cell_type": "markdown",
   "metadata": {},
   "source": [
    "### Suffixes"
   ]
  },
  {
   "cell_type": "code",
   "execution_count": 6,
   "metadata": {},
   "outputs": [
    {
     "name": "stdout",
     "output_type": "stream",
     "text": [
      "<class 'pandas.core.frame.DataFrame'>\n",
      "RangeIndex: 422 entries, 0 to 421\n",
      "Data columns (total 4 columns):\n",
      " #   Column   Non-Null Count  Dtype \n",
      "---  ------   --------------  ----- \n",
      " 0   word     422 non-null    object\n",
      " 1   count    422 non-null    int64 \n",
      " 2   cat      422 non-null    object\n",
      " 3   variant  422 non-null    object\n",
      "dtypes: int64(1), object(3)\n",
      "memory usage: 13.3+ KB\n"
     ]
    }
   ],
   "source": [
    "suffix_word_file = '../words/suffixes.txt'\n",
    "suffix_words = pd.read_csv(suffix_word_file, names=['word', 'count', 'cat'])\n",
    "# add new empty columns for variants at index 3\n",
    "suffix_words.insert(3, 'variant', '')\n",
    "\n",
    "suffix_words.info()"
   ]
  },
  {
   "cell_type": "code",
   "execution_count": 7,
   "metadata": {},
   "outputs": [
    {
     "data": {
      "text/html": [
       "<div>\n",
       "<style scoped>\n",
       "    .dataframe tbody tr th:only-of-type {\n",
       "        vertical-align: middle;\n",
       "    }\n",
       "\n",
       "    .dataframe tbody tr th {\n",
       "        vertical-align: top;\n",
       "    }\n",
       "\n",
       "    .dataframe thead th {\n",
       "        text-align: right;\n",
       "    }\n",
       "</style>\n",
       "<table border=\"1\" class=\"dataframe\">\n",
       "  <thead>\n",
       "    <tr style=\"text-align: right;\">\n",
       "      <th></th>\n",
       "      <th>word</th>\n",
       "      <th>count</th>\n",
       "      <th>cat</th>\n",
       "      <th>variant</th>\n",
       "    </tr>\n",
       "  </thead>\n",
       "  <tbody>\n",
       "    <tr>\n",
       "      <th>0</th>\n",
       "      <td>spokesman</td>\n",
       "      <td>18072</td>\n",
       "      <td>man</td>\n",
       "      <td></td>\n",
       "    </tr>\n",
       "    <tr>\n",
       "      <th>1</th>\n",
       "      <td>congressman</td>\n",
       "      <td>1702</td>\n",
       "      <td>man</td>\n",
       "      <td></td>\n",
       "    </tr>\n",
       "    <tr>\n",
       "      <th>2</th>\n",
       "      <td>businessman</td>\n",
       "      <td>1588</td>\n",
       "      <td>man</td>\n",
       "      <td></td>\n",
       "    </tr>\n",
       "    <tr>\n",
       "      <th>3</th>\n",
       "      <td>policeman</td>\n",
       "      <td>1155</td>\n",
       "      <td>man</td>\n",
       "      <td></td>\n",
       "    </tr>\n",
       "    <tr>\n",
       "      <th>4</th>\n",
       "      <td>freshman</td>\n",
       "      <td>412</td>\n",
       "      <td>man</td>\n",
       "      <td></td>\n",
       "    </tr>\n",
       "  </tbody>\n",
       "</table>\n",
       "</div>"
      ],
      "text/plain": [
       "          word  count   cat variant\n",
       "0    spokesman  18072   man        \n",
       "1  congressman   1702   man        \n",
       "2  businessman   1588   man        \n",
       "3    policeman   1155   man        \n",
       "4     freshman    412   man        "
      ]
     },
     "execution_count": 7,
     "metadata": {},
     "output_type": "execute_result"
    }
   ],
   "source": [
    "suffix_words.head()"
   ]
  },
  {
   "cell_type": "code",
   "execution_count": 5,
   "metadata": {},
   "outputs": [],
   "source": [
    "processed_words = verify_wordlist_bn(suffix_words['word'].tolist())"
   ]
  },
  {
   "cell_type": "code",
   "execution_count": 72,
   "metadata": {},
   "outputs": [],
   "source": [
    "# add processed words to dataframe\n",
    "for word in processed_words.keys():\n",
    "    suffix_words.loc[suffix_words['word'] == word, 'variant'] = processed_words[word]"
   ]
  },
  {
   "cell_type": "code",
   "execution_count": 73,
   "metadata": {},
   "outputs": [
    {
     "data": {
      "text/html": [
       "<div>\n",
       "<style scoped>\n",
       "    .dataframe tbody tr th:only-of-type {\n",
       "        vertical-align: middle;\n",
       "    }\n",
       "\n",
       "    .dataframe tbody tr th {\n",
       "        vertical-align: top;\n",
       "    }\n",
       "\n",
       "    .dataframe thead th {\n",
       "        text-align: right;\n",
       "    }\n",
       "</style>\n",
       "<table border=\"1\" class=\"dataframe\">\n",
       "  <thead>\n",
       "    <tr style=\"text-align: right;\">\n",
       "      <th></th>\n",
       "      <th>word</th>\n",
       "      <th>count</th>\n",
       "      <th>cat</th>\n",
       "      <th>variant</th>\n",
       "    </tr>\n",
       "  </thead>\n",
       "  <tbody>\n",
       "    <tr>\n",
       "      <th>0</th>\n",
       "      <td>spokesman</td>\n",
       "      <td>18072</td>\n",
       "      <td>man</td>\n",
       "      <td>spokesman</td>\n",
       "    </tr>\n",
       "    <tr>\n",
       "      <th>1</th>\n",
       "      <td>congressman</td>\n",
       "      <td>1702</td>\n",
       "      <td>man</td>\n",
       "      <td>congressman</td>\n",
       "    </tr>\n",
       "    <tr>\n",
       "      <th>2</th>\n",
       "      <td>businessman</td>\n",
       "      <td>1588</td>\n",
       "      <td>man</td>\n",
       "      <td>businessman</td>\n",
       "    </tr>\n",
       "    <tr>\n",
       "      <th>3</th>\n",
       "      <td>policeman</td>\n",
       "      <td>1155</td>\n",
       "      <td>man</td>\n",
       "      <td>policeman</td>\n",
       "    </tr>\n",
       "    <tr>\n",
       "      <th>4</th>\n",
       "      <td>freshman</td>\n",
       "      <td>412</td>\n",
       "      <td>man</td>\n",
       "      <td>freshman</td>\n",
       "    </tr>\n",
       "  </tbody>\n",
       "</table>\n",
       "</div>"
      ],
      "text/plain": [
       "          word  count   cat      variant\n",
       "0    spokesman  18072   man    spokesman\n",
       "1  congressman   1702   man  congressman\n",
       "2  businessman   1588   man  businessman\n",
       "3    policeman   1155   man    policeman\n",
       "4     freshman    412   man     freshman"
      ]
     },
     "execution_count": 73,
     "metadata": {},
     "output_type": "execute_result"
    }
   ],
   "source": [
    "# remove rows with empty variant\n",
    "suffix_words_verified = suffix_words[suffix_words['variant'] != '']\n",
    "suffix_words_verified.head()"
   ]
  },
  {
   "cell_type": "code",
   "execution_count": 74,
   "metadata": {},
   "outputs": [],
   "source": [
    "# save to file\n",
    "suffix_words_verified.to_csv('../words/verified_suffixes.csv', header=True)"
   ]
  },
  {
   "cell_type": "code",
   "execution_count": 5,
   "metadata": {},
   "outputs": [],
   "source": [
    "suffix_words_verified = pd.read_csv('../words/verified_suffixes.csv', index_col=0)"
   ]
  },
  {
   "cell_type": "markdown",
   "metadata": {},
   "source": [
    "#### Words left behind"
   ]
  },
  {
   "cell_type": "code",
   "execution_count": 11,
   "metadata": {},
   "outputs": [
    {
     "name": "stdout",
     "output_type": "stream",
     "text": [
      "twigman, crateman, musicman, bullyboys, dudesman, backwoodswoman, chatirygirl, hateboy, horseboys, smallpoxgirl, boygirl, ombudman, teeman, taxgirl, crewmen, safeman, posterboys, homosextranswoman, gagboy, weathermen, coverman, windsorgirl, browngirl, badboys, eyeman, spokeman, factorygirl, sofaman, lesbiman, spiderboy, londongirl, posterboy, funboy, furnituregirl, squintygirl, hangedman, bigboy, netsman, buttboy, boigirl, sickman, machogirl, pro-woman, tenordrumman, valleygirl, girlboy, pushman, antibusinessman, craftsmen, penisman, non-girl, ploughboys, craftman, stickwoman, trannygirl, postergirl, axman, tradman, enterdaveman, countrygirl, breakupgirl, cameragirl, harmlessfangirl, sissyboy, badboy, marblecargirl, wingwoman, beatboxman, trannyboy, marketingman, watergirl, dirtboy, paceman, stickboy, tarpman, coastman, idiotboy, cityboy, homosextransman, aspergirl, mainman, racketboy, "
     ]
    }
   ],
   "source": [
    "# words that were not verified\n",
    "for t in set(suffix_words_verified['word']) ^ set(suffix_words['word']):\n",
    "    print(t,end=', ')"
   ]
  },
  {
   "cell_type": "code",
   "execution_count": 121,
   "metadata": {},
   "outputs": [
    {
     "name": "stdout",
     "output_type": "stream",
     "text": [
      "['spokesman', 'congressman', 'businessman', 'policeman', 'freshman', 'fisherman', 'cameraman', 'statesman', 'defenseman', 'madman', 'frontman', 'fireman', 'postman', 'baseman', 'strongman', 'foreman', 'craftsman', 'ombudsman', 'hitman', 'superman', 'caveman', 'batsman', 'lineman', 'workman', 'barman', 'showman', 'newsman', 'pitchman', 'serviceman', 'defenceman', 'snowman', 'watchman', 'marksman', 'sportsman', 'hangman', 'weatherman', 'mailman', 'taxman', 'tribesman', 'wingman', 'batman', 'seaman', 'anchorman', 'conman', 'assemblyman', 'draftsman', 'crewman', 'freeman', 'journeyman', 'gentlemen', 'militiaman', 'horseman', 'headman', 'motorman', 'linesman', 'swordsman', 'bondsman', 'lawman', 'warehouseman', 'midshipman', 'yeoman', 'jokerman', 'spaceman', 'workingman', 'kinsman', 'corpsman', 'bluesman', 'woodsman', 'newspaperman', 'guardsman', 'frontiersman', 'boatman', 'triggerman', 'iceman', 'policemen', 'dairyman', 'freedman', 'stallman', 'stockman', 'longshoreman', 'bagman', 'swingman', 'flagman', 'stickman', 'walkman', 'coachman', 'netman', 'counterman', 'ironman', 'churchman', 'soundman', 'bushman', 'boogieman', 'sheepman', 'bondman', 'radioman', 'deadman', 'footman', 'sandman', 'firemen', 'frogman', 'axeman', 'no-man', 'spiderman', 'selectman', 'seedsman', 'cartman', 'ploughman', 'transman', 'lumberman', 'connman', 'waxman', 'plantman', 'con-man', 'bowman', 'swagman', 'groomsman', 'merchantman', 'landsman', 'groundsman', 'placeman', 'bellman', 'adman', 'wheelman', 'draughtsman', 'lifeboatman', 'wildman', 'carman', 'clansman', 'lobsterman', 'headsman', 'whiteman', 'tillman', 'microman', 'targetman', 'pointman', 'cavalryman', 'oarsman', 'oysterman', 'glovesman', 'swordman', 'storeman', 'sideman', 'centerman', 'busman', 'pedoman', 'huntsman', 'lensman', 'plowman', 'servicemen', 'woodman', 'hellman', 'underclassman', 'ragman', 'slaughterman', 'packman', 'packetman', 'binman', 'fishermen', 'nightman', 'pieman', 'barrowman', 'sugarman', 'topman', 'switchman', 'spearfisherman', 'assman', 'rasterman', 'ratman', 'classman', 'minuteman', 'cornishman', 'deskman', 'cornerman', 'sportsmen', 'ultraman', 'gershman', 'pressman', 'seeman', 'handicraftsman', 'liftman', 'he-man', 'cyberman', 'macro-man', 'rubberman', 'she-man', 'washerman', 'cameramen', 'starman', 'gateman', 'artilleryman', 'cutman', 'nightwatchman', 'spokesmen', 'townsman', 'pointsman', 'spearman', 'expressman', 'gleeman', 'tribesmen', 'pig-man', 'spoonman', 'prman', 'chessmen', 'dutchman', 'rainman', 'crossbowman', 'ambulanceman', 'overman', 'pcman', 'bargeman', 'almsman', 'cabman', 'boardman', 'centreman', 'sub-man', 'gearman', 'discman', 'seamen', 'longshoremen', 'rockman', 'portman', 'frenchman', 'defensemen', 'snowmen', 'defencemen', 'cocksman', 'upperclassman', 'winchman', 'merman', 'selectmen', 'birdman', 'capman', 'bunnyman', 'backwoodsman', 'bestman', 'garageman', 'powerman', 'spokeswoman', 'congresswoman', 'businesswoman', 'policewoman', 'anchorwoman', 'forewoman', 'gentlewoman', 'madwoman', 'spokewoman', 'frontierswoman', 'charwoman', 'bondwoman', 'everywoman', 'noblewoman', 'fisherwoman', 'transwoman', 'newswoman', 'frontwoman', 'cavewoman', 'servicewoman', 'bogeywoman', 'stateswoman', 'man-woman', 'craftswoman', 'washerwoman', 'policewomen', 'hitwoman', 'batwoman', 'markswoman', 'swordswoman', 'sportswoman', 'ambulancewoman', 'catwoman', 'anti-woman', 'selectwoman', 'tribeswoman', 'horsewoman', 'cowboy', 'playboy', 'fanboy', 'tomboy', 'busboy', 'plowboy', 'paperboy', 'homeboy', 'cowboys', 'fanboys', 'doughboy', 'playboys', 'sackboy', 'ballboy', 'batboy', 'houseboy', 'ladyboy', 'farmboy', 'fireboy', 'newsboy', 'hellboy', 'bellboy', 'man-boy', 'paperboys', 'fratboy', 'busboys', 'fisherboy', 'nancyboy', 'transboy', 'headboy', 'doughboys', 'whiteboy', 'femboy', 'toyboy', 'copyboy', 'dog-boy', 'tomboys', 'manboy', 'callboy', 'poboy', 'flyboys', 'showgirl', 'fangirl', 'cowgirl', 'supergirl', 'batgirl', 'showgirls', 'dreamgirl', 'bargirls', 'bargirl', 'babygirl', 'tomgirl', 'transgirl', 'callgirl', 'playgirl', 'fangirls', 'tubgirl', 'snowgirl', 'ex-girl', 'papergirl', 'cavegirl', 'ballgirl', 'farmgirl', 'cowgirls', 'slavegirl']\n"
     ]
    }
   ],
   "source": [
    "print(suffix_words_verified['word'].tolist())"
   ]
  },
  {
   "cell_type": "markdown",
   "metadata": {},
   "source": [
    "### Prefixes"
   ]
  },
  {
   "cell_type": "code",
   "execution_count": 75,
   "metadata": {},
   "outputs": [],
   "source": [
    "prfx_json = '../words/prefixes.json'\n",
    "prefixes = json.load(open(prfx_json, 'r'))"
   ]
  },
  {
   "cell_type": "code",
   "execution_count": 76,
   "metadata": {},
   "outputs": [],
   "source": [
    "# turn into df\n",
    "prefixes_rowwise = []\n",
    "for cat, word_dict in prefixes.items():\n",
    "    for word, count in word_dict.items():\n",
    "        prefixes_rowwise.append([cat, word, count])\n",
    "\n",
    "prefixes_df = pd.DataFrame(prefixes_rowwise, columns=['cat', 'word', 'count'])\n",
    "\n",
    "# add new empty column at position 2\n",
    "prefixes_df.insert(2, 'variant', '')"
   ]
  },
  {
   "cell_type": "code",
   "execution_count": 77,
   "metadata": {},
   "outputs": [
    {
     "data": {
      "text/html": [
       "<div>\n",
       "<style scoped>\n",
       "    .dataframe tbody tr th:only-of-type {\n",
       "        vertical-align: middle;\n",
       "    }\n",
       "\n",
       "    .dataframe tbody tr th {\n",
       "        vertical-align: top;\n",
       "    }\n",
       "\n",
       "    .dataframe thead th {\n",
       "        text-align: right;\n",
       "    }\n",
       "</style>\n",
       "<table border=\"1\" class=\"dataframe\">\n",
       "  <thead>\n",
       "    <tr style=\"text-align: right;\">\n",
       "      <th></th>\n",
       "      <th>cat</th>\n",
       "      <th>word</th>\n",
       "      <th>variant</th>\n",
       "      <th>count</th>\n",
       "    </tr>\n",
       "  </thead>\n",
       "  <tbody>\n",
       "    <tr>\n",
       "      <th>0</th>\n",
       "      <td>man</td>\n",
       "      <td>man-boobs</td>\n",
       "      <td></td>\n",
       "      <td>11</td>\n",
       "    </tr>\n",
       "    <tr>\n",
       "      <th>1</th>\n",
       "      <td>man</td>\n",
       "      <td>man-marking</td>\n",
       "      <td></td>\n",
       "      <td>6</td>\n",
       "    </tr>\n",
       "    <tr>\n",
       "      <th>2</th>\n",
       "      <td>man</td>\n",
       "      <td>man-made</td>\n",
       "      <td></td>\n",
       "      <td>200</td>\n",
       "    </tr>\n",
       "    <tr>\n",
       "      <th>3</th>\n",
       "      <td>man</td>\n",
       "      <td>man-fasting</td>\n",
       "      <td></td>\n",
       "      <td>4</td>\n",
       "    </tr>\n",
       "    <tr>\n",
       "      <th>4</th>\n",
       "      <td>man</td>\n",
       "      <td>man-ape</td>\n",
       "      <td></td>\n",
       "      <td>9</td>\n",
       "    </tr>\n",
       "  </tbody>\n",
       "</table>\n",
       "</div>"
      ],
      "text/plain": [
       "   cat         word variant  count\n",
       "0  man    man-boobs             11\n",
       "1  man  man-marking              6\n",
       "2  man     man-made            200\n",
       "3  man  man-fasting              4\n",
       "4  man      man-ape              9"
      ]
     },
     "execution_count": 77,
     "metadata": {},
     "output_type": "execute_result"
    }
   ],
   "source": [
    "prefixes_df.head()"
   ]
  },
  {
   "cell_type": "code",
   "execution_count": 78,
   "metadata": {},
   "outputs": [
    {
     "name": "stdout",
     "output_type": "stream",
     "text": [
      "<class 'pandas.core.frame.DataFrame'>\n",
      "RangeIndex: 186 entries, 0 to 185\n",
      "Data columns (total 4 columns):\n",
      " #   Column   Non-Null Count  Dtype \n",
      "---  ------   --------------  ----- \n",
      " 0   cat      186 non-null    object\n",
      " 1   word     186 non-null    object\n",
      " 2   variant  186 non-null    object\n",
      " 3   count    186 non-null    int64 \n",
      "dtypes: int64(1), object(3)\n",
      "memory usage: 5.9+ KB\n"
     ]
    }
   ],
   "source": [
    "prefixes_df.info()"
   ]
  },
  {
   "cell_type": "code",
   "execution_count": 35,
   "metadata": {},
   "outputs": [],
   "source": [
    "prefixes_verified = verify_wordlist_bn(prefixes_df['word'].tolist())"
   ]
  },
  {
   "cell_type": "code",
   "execution_count": 79,
   "metadata": {},
   "outputs": [],
   "source": [
    "# add variants to df\n",
    "for orig, variant in prefixes_verified.items():\n",
    "    prefixes_df.loc[prefixes_df['word'] == orig, 'variant'] = variant\n",
    "\n",
    "# reduce df to only those with variants\n",
    "prefixes_df_verified = prefixes_df[prefixes_df['variant'] != '']"
   ]
  },
  {
   "cell_type": "code",
   "execution_count": 80,
   "metadata": {},
   "outputs": [
    {
     "data": {
      "text/plain": [
       "88"
      ]
     },
     "execution_count": 80,
     "metadata": {},
     "output_type": "execute_result"
    }
   ],
   "source": [
    "len(prefixes_df_verified)"
   ]
  },
  {
   "cell_type": "code",
   "execution_count": 81,
   "metadata": {},
   "outputs": [],
   "source": [
    "prefixes_df_verified.to_csv('../words/verified_prefixes.csv', header=True)"
   ]
  },
  {
   "cell_type": "markdown",
   "metadata": {},
   "source": [
    "#### Words left behind"
   ]
  },
  {
   "cell_type": "code",
   "execution_count": 66,
   "metadata": {},
   "outputs": [
    {
     "data": {
      "text/plain": [
       "{\"boy's\",\n",
       " 'boyCan',\n",
       " 'boyLocation',\n",
       " 'boyShow',\n",
       " 'boychick',\n",
       " 'boycoott',\n",
       " 'boycottchina',\n",
       " 'boycottexxonmobil',\n",
       " 'boycottfox',\n",
       " 'boycottvista',\n",
       " 'boycottwas',\n",
       " 'boyeee',\n",
       " 'boyeeeeee',\n",
       " 'boyeeeez',\n",
       " 'boyeez',\n",
       " 'boyfrienddom',\n",
       " 'boyfriendhave',\n",
       " 'boyfrind',\n",
       " 'boygirl',\n",
       " 'boygrrl',\n",
       " 'boyie',\n",
       " 'boynu',\n",
       " 'boynunda',\n",
       " 'boynunu',\n",
       " 'boyon',\n",
       " 'boyos',\n",
       " 'boysand',\n",
       " 'boysfirsttime',\n",
       " 'boysroom',\n",
       " 'boyut',\n",
       " 'boyutlarda',\n",
       " 'boywear',\n",
       " 'boywho',\n",
       " 'boywithstick',\n",
       " 'boyworld',\n",
       " 'girlMore',\n",
       " 'girland',\n",
       " 'girlboi',\n",
       " 'girlboy',\n",
       " 'girlcotting',\n",
       " 'girlcrush',\n",
       " 'girlfiend',\n",
       " 'girlfirend',\n",
       " 'girlfried',\n",
       " 'girlfrield',\n",
       " 'girlfrien',\n",
       " 'girlfriendd',\n",
       " 'girlinblack',\n",
       " 'girllie',\n",
       " 'girlsCute',\n",
       " 'girlsandon',\n",
       " 'girlsof',\n",
       " 'man-God',\n",
       " 'man-advantage',\n",
       " 'man-and',\n",
       " 'man-bib',\n",
       " 'man-bra',\n",
       " 'man-bracelet',\n",
       " 'man-brain',\n",
       " 'man-building',\n",
       " 'man-bush',\n",
       " 'man-but',\n",
       " 'man-certificate',\n",
       " 'man-chick',\n",
       " 'man-children',\n",
       " 'man-clit',\n",
       " 'man-compatibility',\n",
       " 'man-fashion',\n",
       " 'man-fasting',\n",
       " 'man-flesh',\n",
       " 'man-food',\n",
       " 'man-hand',\n",
       " 'man-invention',\n",
       " 'man-killing',\n",
       " 'man-kissing',\n",
       " 'man-land',\n",
       " 'man-loving',\n",
       " 'man-management',\n",
       " 'man-marker',\n",
       " 'man-more',\n",
       " 'man-mountain',\n",
       " 'man-musk',\n",
       " 'man-mutilating',\n",
       " 'man-parenting',\n",
       " 'man-raffle',\n",
       " 'man-sign',\n",
       " 'man-smell',\n",
       " 'man-stew',\n",
       " 'man-supporting',\n",
       " 'man-surrogate',\n",
       " 'man-teat',\n",
       " 'man-worthiness',\n",
       " 'womanbreast',\n",
       " 'womanising',\n",
       " 'womanity',\n",
       " 'womanpower',\n",
       " 'womanspace',\n",
       " 'womansto'}"
      ]
     },
     "execution_count": 66,
     "metadata": {},
     "output_type": "execute_result"
    }
   ],
   "source": [
    "# words that were not verified\n",
    "set(prefixes_verified.keys()) ^ set(prefixes_df['word'])"
   ]
  },
  {
   "cell_type": "code",
   "execution_count": 112,
   "metadata": {},
   "outputs": [
    {
     "data": {
      "text/plain": [
       "['man-boobs',\n",
       " 'man-marking',\n",
       " 'man-made',\n",
       " 'man-ape',\n",
       " 'man-pack',\n",
       " 'man-hater',\n",
       " 'man-eater',\n",
       " 'man-bag',\n",
       " 'man-ass',\n",
       " 'man-crush',\n",
       " 'man-child',\n",
       " 'man-stealing',\n",
       " 'man-woman',\n",
       " 'man-machine',\n",
       " 'man-cession',\n",
       " 'man-hours',\n",
       " 'man-fest',\n",
       " 'man-code',\n",
       " 'man-eating',\n",
       " 'man-hour',\n",
       " 'man-hating',\n",
       " 'man-hug',\n",
       " 'man-up',\n",
       " 'man-year',\n",
       " 'man-thing',\n",
       " 'man-cat',\n",
       " 'man-stopper',\n",
       " 'man-love',\n",
       " 'man-dog',\n",
       " 'man-power',\n",
       " 'man-month',\n",
       " 'man-servant',\n",
       " 'man-rating',\n",
       " 'man-boy',\n",
       " 'man-db',\n",
       " 'man-magnet',\n",
       " 'man-whore',\n",
       " 'man-cave',\n",
       " 'man-He',\n",
       " 'man-trap',\n",
       " 'man-friend',\n",
       " 'man-hunt',\n",
       " 'man-hood',\n",
       " 'man-page',\n",
       " 'man-slaughter',\n",
       " 'man-kind',\n",
       " 'man-mark',\n",
       " 'womankind',\n",
       " 'womanist',\n",
       " 'womanly',\n",
       " 'womanism',\n",
       " 'girlfriend',\n",
       " 'girliness',\n",
       " 'girlie',\n",
       " 'girlfag',\n",
       " 'girlish',\n",
       " 'girldom',\n",
       " 'girlvinyl',\n",
       " 'girlification',\n",
       " 'girlishly',\n",
       " 'girlfight',\n",
       " 'girlpower',\n",
       " 'girlcott',\n",
       " 'girllove',\n",
       " 'boyfriend',\n",
       " 'boyle',\n",
       " 'boyne',\n",
       " 'boyar',\n",
       " 'boyband',\n",
       " 'boyish',\n",
       " 'boying',\n",
       " 'boyscout',\n",
       " 'boyness',\n",
       " 'boyism',\n",
       " 'boyishly',\n",
       " 'boyer',\n",
       " 'boyunlu',\n",
       " 'boyun',\n",
       " 'boysgirls',\n",
       " 'boyce',\n",
       " 'boynton',\n",
       " 'boytoy']"
      ]
     },
     "execution_count": 112,
     "metadata": {},
     "output_type": "execute_result"
    }
   ],
   "source": [
    "prefixes_df_verified.word.tolist()"
   ]
  },
  {
   "cell_type": "code",
   "execution_count": 113,
   "metadata": {},
   "outputs": [],
   "source": [
    "not_people = {'boycot', 'boyardee','boyun', 'boyce', 'boynton', 'boyne', 'boyle'}\n",
    "# remove rows in which word starts with word in not_people\n",
    "prefixes_df_verified = prefixes_df_verified[~prefixes_df_verified['word'].str.startswith(tuple(not_people))]"
   ]
  },
  {
   "cell_type": "code",
   "execution_count": 114,
   "metadata": {},
   "outputs": [
    {
     "data": {
      "text/plain": [
       "75"
      ]
     },
     "execution_count": 114,
     "metadata": {},
     "output_type": "execute_result"
    }
   ],
   "source": [
    "len(prefixes_df_verified)"
   ]
  },
  {
   "cell_type": "markdown",
   "metadata": {},
   "source": [
    "## Join Prefixes and Suffixes"
   ]
  },
  {
   "cell_type": "code",
   "execution_count": 115,
   "metadata": {},
   "outputs": [
    {
     "name": "stdout",
     "output_type": "stream",
     "text": [
      "Index(['word', 'variant', 'count', 'cat', 'affix_type'], dtype='object') Index(['word', 'count', 'cat', 'variant', 'affix_type'], dtype='object')\n"
     ]
    },
    {
     "name": "stderr",
     "output_type": "stream",
     "text": [
      "<ipython-input-115-27866a39f2bd>:2: SettingWithCopyWarning: \n",
      "A value is trying to be set on a copy of a slice from a DataFrame.\n",
      "Try using .loc[row_indexer,col_indexer] = value instead\n",
      "\n",
      "See the caveats in the documentation: https://pandas.pydata.org/pandas-docs/stable/user_guide/indexing.html#returning-a-view-versus-a-copy\n",
      "  prefixes_df_verified['affix_type'] = 'prefix'\n",
      "<ipython-input-115-27866a39f2bd>:3: SettingWithCopyWarning: \n",
      "A value is trying to be set on a copy of a slice from a DataFrame.\n",
      "Try using .loc[row_indexer,col_indexer] = value instead\n",
      "\n",
      "See the caveats in the documentation: https://pandas.pydata.org/pandas-docs/stable/user_guide/indexing.html#returning-a-view-versus-a-copy\n",
      "  suffix_words_verified['affix_type'] = 'suffix'\n"
     ]
    }
   ],
   "source": [
    "# join suffixes and prefixes into one df\n",
    "prefixes_df_verified['affix_type'] = 'prefix'\n",
    "suffix_words_verified['affix_type'] = 'suffix'\n",
    "\n",
    "assert list(prefixes_df_verified.columns) == list(suffix_words_verified.columns)"
   ]
  },
  {
   "cell_type": "code",
   "execution_count": 116,
   "metadata": {},
   "outputs": [],
   "source": [
    "# adjust the oder of columns\n",
    "prefixes_df_verified = prefixes_df_verified[['word', 'variant', 'count', 'cat', 'affix_type']]\n",
    "suffixes_df_verified = suffix_words_verified[['word', 'variant', 'count', 'cat', 'affix_type']]"
   ]
  },
  {
   "cell_type": "code",
   "execution_count": 118,
   "metadata": {},
   "outputs": [],
   "source": [
    "# concatenate dataframes\n",
    "affixes_df = pd.concat([suffixes_df_verified, prefixes_df_verified], ignore_index=True)"
   ]
  },
  {
   "cell_type": "code",
   "execution_count": 119,
   "metadata": {},
   "outputs": [
    {
     "data": {
      "text/plain": [
       "Index(['word', 'variant', 'count', 'cat', 'affix_type'], dtype='object')"
      ]
     },
     "execution_count": 119,
     "metadata": {},
     "output_type": "execute_result"
    }
   ],
   "source": [
    "affixes_df.columns"
   ]
  },
  {
   "cell_type": "code",
   "execution_count": 120,
   "metadata": {},
   "outputs": [],
   "source": [
    "affixes_df.to_csv('/home/bartlm/tryout/words/verified_affixes.csv', header=True)"
   ]
  }
 ],
 "metadata": {
  "kernelspec": {
   "display_name": "llm",
   "language": "python",
   "name": "python3"
  },
  "language_info": {
   "codemirror_mode": {
    "name": "ipython",
    "version": 3
   },
   "file_extension": ".py",
   "mimetype": "text/x-python",
   "name": "python",
   "nbconvert_exporter": "python",
   "pygments_lexer": "ipython3",
   "version": "3.8.8"
  }
 },
 "nbformat": 4,
 "nbformat_minor": 2
}
